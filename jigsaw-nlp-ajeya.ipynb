{
 "cells": [
  {
   "cell_type": "code",
   "execution_count": 94,
   "metadata": {},
   "outputs": [],
   "source": [
    "import pandas as pd\n",
    "import numpy as np\n",
    "import matplotlib.pyplot as plt\n",
    "import seaborn as sns\n",
    "from wordcloud import WordCloud ,STOPWORDS\n",
    "from PIL import Image\n",
    "from edm import report"
   ]
  },
  {
   "cell_type": "markdown",
   "metadata": {},
   "source": [
    "## Data block"
   ]
  },
  {
   "cell_type": "code",
   "execution_count": 57,
   "metadata": {},
   "outputs": [],
   "source": [
    "train_data = pd.read_csv('data/train.csv')\n",
    "test_data = pd.read_csv('data/test.csv')"
   ]
  },
  {
   "cell_type": "markdown",
   "metadata": {},
   "source": [
    "## Feature Engineering "
   ]
  },
  {
   "cell_type": "code",
   "execution_count": 45,
   "metadata": {},
   "outputs": [
    {
     "data": {
      "text/html": [
       "<div>\n",
       "<style scoped>\n",
       "    .dataframe tbody tr th:only-of-type {\n",
       "        vertical-align: middle;\n",
       "    }\n",
       "\n",
       "    .dataframe tbody tr th {\n",
       "        vertical-align: top;\n",
       "    }\n",
       "\n",
       "    .dataframe thead th {\n",
       "        text-align: right;\n",
       "    }\n",
       "</style>\n",
       "<table border=\"1\" class=\"dataframe\">\n",
       "  <thead>\n",
       "    <tr style=\"text-align: right;\">\n",
       "      <th></th>\n",
       "      <th>id</th>\n",
       "      <th>target</th>\n",
       "      <th>comment_text</th>\n",
       "      <th>severe_toxicity</th>\n",
       "      <th>obscene</th>\n",
       "      <th>identity_attack</th>\n",
       "      <th>insult</th>\n",
       "      <th>threat</th>\n",
       "      <th>asian</th>\n",
       "      <th>atheist</th>\n",
       "      <th>...</th>\n",
       "      <th>article_id</th>\n",
       "      <th>rating</th>\n",
       "      <th>funny</th>\n",
       "      <th>wow</th>\n",
       "      <th>sad</th>\n",
       "      <th>likes</th>\n",
       "      <th>disagree</th>\n",
       "      <th>sexual_explicit</th>\n",
       "      <th>identity_annotator_count</th>\n",
       "      <th>toxicity_annotator_count</th>\n",
       "    </tr>\n",
       "  </thead>\n",
       "  <tbody>\n",
       "    <tr>\n",
       "      <th>0</th>\n",
       "      <td>59848</td>\n",
       "      <td>0.0</td>\n",
       "      <td>This is so cool. It's like, 'would you want yo...</td>\n",
       "      <td>0.0</td>\n",
       "      <td>0.0</td>\n",
       "      <td>0.0</td>\n",
       "      <td>0.0</td>\n",
       "      <td>0.0</td>\n",
       "      <td>NaN</td>\n",
       "      <td>NaN</td>\n",
       "      <td>...</td>\n",
       "      <td>2006</td>\n",
       "      <td>rejected</td>\n",
       "      <td>0</td>\n",
       "      <td>0</td>\n",
       "      <td>0</td>\n",
       "      <td>0</td>\n",
       "      <td>0</td>\n",
       "      <td>0.0</td>\n",
       "      <td>0</td>\n",
       "      <td>4</td>\n",
       "    </tr>\n",
       "    <tr>\n",
       "      <th>1</th>\n",
       "      <td>59849</td>\n",
       "      <td>0.0</td>\n",
       "      <td>Thank you!! This would make my life a lot less...</td>\n",
       "      <td>0.0</td>\n",
       "      <td>0.0</td>\n",
       "      <td>0.0</td>\n",
       "      <td>0.0</td>\n",
       "      <td>0.0</td>\n",
       "      <td>NaN</td>\n",
       "      <td>NaN</td>\n",
       "      <td>...</td>\n",
       "      <td>2006</td>\n",
       "      <td>rejected</td>\n",
       "      <td>0</td>\n",
       "      <td>0</td>\n",
       "      <td>0</td>\n",
       "      <td>0</td>\n",
       "      <td>0</td>\n",
       "      <td>0.0</td>\n",
       "      <td>0</td>\n",
       "      <td>4</td>\n",
       "    </tr>\n",
       "  </tbody>\n",
       "</table>\n",
       "<p>2 rows × 45 columns</p>\n",
       "</div>"
      ],
      "text/plain": [
       "      id  target                                       comment_text  \\\n",
       "0  59848     0.0  This is so cool. It's like, 'would you want yo...   \n",
       "1  59849     0.0  Thank you!! This would make my life a lot less...   \n",
       "\n",
       "   severe_toxicity  obscene  identity_attack  insult  threat  asian  atheist  \\\n",
       "0              0.0      0.0              0.0     0.0     0.0    NaN      NaN   \n",
       "1              0.0      0.0              0.0     0.0     0.0    NaN      NaN   \n",
       "\n",
       "             ...             article_id    rating  funny  wow  sad  likes  \\\n",
       "0            ...                   2006  rejected      0    0    0      0   \n",
       "1            ...                   2006  rejected      0    0    0      0   \n",
       "\n",
       "   disagree  sexual_explicit  identity_annotator_count  \\\n",
       "0         0              0.0                         0   \n",
       "1         0              0.0                         0   \n",
       "\n",
       "   toxicity_annotator_count  \n",
       "0                         4  \n",
       "1                         4  \n",
       "\n",
       "[2 rows x 45 columns]"
      ]
     },
     "execution_count": 45,
     "metadata": {},
     "output_type": "execute_result"
    }
   ],
   "source": [
    "train_data.head(2)"
   ]
  },
  {
   "cell_type": "code",
   "execution_count": 46,
   "metadata": {},
   "outputs": [
    {
     "data": {
      "text/html": [
       "<div>\n",
       "<style scoped>\n",
       "    .dataframe tbody tr th:only-of-type {\n",
       "        vertical-align: middle;\n",
       "    }\n",
       "\n",
       "    .dataframe tbody tr th {\n",
       "        vertical-align: top;\n",
       "    }\n",
       "\n",
       "    .dataframe thead th {\n",
       "        text-align: right;\n",
       "    }\n",
       "</style>\n",
       "<table border=\"1\" class=\"dataframe\">\n",
       "  <thead>\n",
       "    <tr style=\"text-align: right;\">\n",
       "      <th></th>\n",
       "      <th>id</th>\n",
       "      <th>comment_text</th>\n",
       "    </tr>\n",
       "  </thead>\n",
       "  <tbody>\n",
       "    <tr>\n",
       "      <th>0</th>\n",
       "      <td>7000000</td>\n",
       "      <td>Jeff Sessions is another one of Trump's Orwell...</td>\n",
       "    </tr>\n",
       "    <tr>\n",
       "      <th>1</th>\n",
       "      <td>7000001</td>\n",
       "      <td>I actually inspected the infrastructure on Gra...</td>\n",
       "    </tr>\n",
       "  </tbody>\n",
       "</table>\n",
       "</div>"
      ],
      "text/plain": [
       "        id                                       comment_text\n",
       "0  7000000  Jeff Sessions is another one of Trump's Orwell...\n",
       "1  7000001  I actually inspected the infrastructure on Gra..."
      ]
     },
     "execution_count": 46,
     "metadata": {},
     "output_type": "execute_result"
    }
   ],
   "source": [
    "test_data.head(2)"
   ]
  },
  {
   "cell_type": "code",
   "execution_count": 47,
   "metadata": {},
   "outputs": [
    {
     "data": {
      "text/plain": [
       "id                                           0\n",
       "target                                       0\n",
       "comment_text                                 0\n",
       "severe_toxicity                              0\n",
       "obscene                                      0\n",
       "identity_attack                              0\n",
       "insult                                       0\n",
       "threat                                       0\n",
       "asian                                  1399744\n",
       "atheist                                1399744\n",
       "bisexual                               1399744\n",
       "black                                  1399744\n",
       "buddhist                               1399744\n",
       "christian                              1399744\n",
       "female                                 1399744\n",
       "heterosexual                           1399744\n",
       "hindu                                  1399744\n",
       "homosexual_gay_or_lesbian              1399744\n",
       "intellectual_or_learning_disability    1399744\n",
       "jewish                                 1399744\n",
       "latino                                 1399744\n",
       "male                                   1399744\n",
       "muslim                                 1399744\n",
       "other_disability                       1399744\n",
       "other_gender                           1399744\n",
       "other_race_or_ethnicity                1399744\n",
       "other_religion                         1399744\n",
       "other_sexual_orientation               1399744\n",
       "physical_disability                    1399744\n",
       "psychiatric_or_mental_illness          1399744\n",
       "transgender                            1399744\n",
       "white                                  1399744\n",
       "created_date                                 0\n",
       "publication_id                               0\n",
       "parent_id                               778646\n",
       "article_id                                   0\n",
       "rating                                       0\n",
       "funny                                        0\n",
       "wow                                          0\n",
       "sad                                          0\n",
       "likes                                        0\n",
       "disagree                                     0\n",
       "sexual_explicit                              0\n",
       "identity_annotator_count                     0\n",
       "toxicity_annotator_count                     0\n",
       "dtype: int64"
      ]
     },
     "execution_count": 47,
     "metadata": {},
     "output_type": "execute_result"
    }
   ],
   "source": [
    "train_data.isnull().sum()"
   ]
  },
  {
   "cell_type": "code",
   "execution_count": 48,
   "metadata": {},
   "outputs": [
    {
     "data": {
      "text/plain": [
       "id              0\n",
       "comment_text    0\n",
       "dtype: int64"
      ]
     },
     "execution_count": 48,
     "metadata": {},
     "output_type": "execute_result"
    }
   ],
   "source": [
    "test_data.isnull().sum()"
   ]
  },
  {
   "cell_type": "code",
   "execution_count": 49,
   "metadata": {},
   "outputs": [
    {
     "data": {
      "text/plain": [
       "Well said.    184\n",
       "No.           160\n",
       "Exactly.      132\n",
       "Yes.          127\n",
       "Thank you.    120\n",
       "Name: comment_text, dtype: int64"
      ]
     },
     "execution_count": 49,
     "metadata": {},
     "output_type": "execute_result"
    }
   ],
   "source": [
    "train_data['comment_text'].value_counts().head()"
   ]
  },
  {
   "cell_type": "code",
   "execution_count": 50,
   "metadata": {},
   "outputs": [
    {
     "name": "stdout",
     "output_type": "stream",
     "text": [
      "% unique comments: 98.66744160534198\n"
     ]
    }
   ],
   "source": [
    "print('% unique comments:', (train_data['comment_text'].nunique()/ train_data['comment_text'].shape[0])*100)"
   ]
  },
  {
   "cell_type": "code",
   "execution_count": 51,
   "metadata": {},
   "outputs": [
    {
     "data": {
      "text/plain": [
       "(1170, 1522)"
      ]
     },
     "execution_count": 51,
     "metadata": {},
     "output_type": "execute_result"
    }
   ],
   "source": [
    "train_comments = set(train_data['comment_text'].values)\n",
    "test_comments = set(test_data['comment_text'].values)\n",
    "\n",
    "#1170 unique comments from train data are in test data\n",
    "len(train_comments.intersection(test_comments)), len(test_data.loc[test_data['comment_text'].isin(list(train_comments.intersection(test_comments)))])"
   ]
  },
  {
   "cell_type": "code",
   "execution_count": 52,
   "metadata": {},
   "outputs": [
    {
     "name": "stderr",
     "output_type": "stream",
     "text": [
      "/anaconda3/lib/python3.7/site-packages/scipy/stats/stats.py:1713: FutureWarning: Using a non-tuple sequence for multidimensional indexing is deprecated; use `arr[tuple(seq)]` instead of `arr[seq]`. In the future this will be interpreted as an array index, `arr[np.array(seq)]`, which will result either in an error or a different result.\n",
      "  return np.add.reduce(sorted[indexer] * weights, axis=axis) / sumval\n"
     ]
    },
    {
     "data": {
      "image/png": "[encoded data removed]",
      "text/plain": [
       "<Figure size 432x288 with 1 Axes>"
      ]
     },
     "metadata": {
      "needs_background": "light"
     },
     "output_type": "display_data"
    }
   ],
   "source": [
    "sns.distplot(train_data['target']).set_title('Target distribution')\n",
    "plt.show()"
   ]
  },
  {
   "cell_type": "code",
   "execution_count": 53,
   "metadata": {},
   "outputs": [],
   "source": [
    "train_data = train_data.reindex(sorted(train_data.columns), axis=1)"
   ]
  },
  {
   "cell_type": "code",
   "execution_count": 54,
   "metadata": {},
   "outputs": [
    {
     "data": {
      "text/html": [
       "<div>\n",
       "<style scoped>\n",
       "    .dataframe tbody tr th:only-of-type {\n",
       "        vertical-align: middle;\n",
       "    }\n",
       "\n",
       "    .dataframe tbody tr th {\n",
       "        vertical-align: top;\n",
       "    }\n",
       "\n",
       "    .dataframe thead th {\n",
       "        text-align: right;\n",
       "    }\n",
       "</style>\n",
       "<table border=\"1\" class=\"dataframe\">\n",
       "  <thead>\n",
       "    <tr style=\"text-align: right;\">\n",
       "      <th></th>\n",
       "      <th>article_id</th>\n",
       "      <th>asian</th>\n",
       "      <th>atheist</th>\n",
       "      <th>bisexual</th>\n",
       "      <th>black</th>\n",
       "      <th>buddhist</th>\n",
       "      <th>christian</th>\n",
       "      <th>comment_text</th>\n",
       "      <th>created_date</th>\n",
       "      <th>disagree</th>\n",
       "      <th>...</th>\n",
       "      <th>rating</th>\n",
       "      <th>sad</th>\n",
       "      <th>severe_toxicity</th>\n",
       "      <th>sexual_explicit</th>\n",
       "      <th>target</th>\n",
       "      <th>threat</th>\n",
       "      <th>toxicity_annotator_count</th>\n",
       "      <th>transgender</th>\n",
       "      <th>white</th>\n",
       "      <th>wow</th>\n",
       "    </tr>\n",
       "  </thead>\n",
       "  <tbody>\n",
       "    <tr>\n",
       "      <th>0</th>\n",
       "      <td>2006</td>\n",
       "      <td>NaN</td>\n",
       "      <td>NaN</td>\n",
       "      <td>NaN</td>\n",
       "      <td>NaN</td>\n",
       "      <td>NaN</td>\n",
       "      <td>NaN</td>\n",
       "      <td>This is so cool. It's like, 'would you want yo...</td>\n",
       "      <td>2015-09-29 10:50:41.987077+00</td>\n",
       "      <td>0</td>\n",
       "      <td>...</td>\n",
       "      <td>rejected</td>\n",
       "      <td>0</td>\n",
       "      <td>0.000000</td>\n",
       "      <td>0.0</td>\n",
       "      <td>0.000000</td>\n",
       "      <td>0.0</td>\n",
       "      <td>4</td>\n",
       "      <td>NaN</td>\n",
       "      <td>NaN</td>\n",
       "      <td>0</td>\n",
       "    </tr>\n",
       "    <tr>\n",
       "      <th>1</th>\n",
       "      <td>2006</td>\n",
       "      <td>NaN</td>\n",
       "      <td>NaN</td>\n",
       "      <td>NaN</td>\n",
       "      <td>NaN</td>\n",
       "      <td>NaN</td>\n",
       "      <td>NaN</td>\n",
       "      <td>Thank you!! This would make my life a lot less...</td>\n",
       "      <td>2015-09-29 10:50:42.870083+00</td>\n",
       "      <td>0</td>\n",
       "      <td>...</td>\n",
       "      <td>rejected</td>\n",
       "      <td>0</td>\n",
       "      <td>0.000000</td>\n",
       "      <td>0.0</td>\n",
       "      <td>0.000000</td>\n",
       "      <td>0.0</td>\n",
       "      <td>4</td>\n",
       "      <td>NaN</td>\n",
       "      <td>NaN</td>\n",
       "      <td>0</td>\n",
       "    </tr>\n",
       "    <tr>\n",
       "      <th>2</th>\n",
       "      <td>2006</td>\n",
       "      <td>NaN</td>\n",
       "      <td>NaN</td>\n",
       "      <td>NaN</td>\n",
       "      <td>NaN</td>\n",
       "      <td>NaN</td>\n",
       "      <td>NaN</td>\n",
       "      <td>This is such an urgent design problem; kudos t...</td>\n",
       "      <td>2015-09-29 10:50:45.222647+00</td>\n",
       "      <td>0</td>\n",
       "      <td>...</td>\n",
       "      <td>rejected</td>\n",
       "      <td>0</td>\n",
       "      <td>0.000000</td>\n",
       "      <td>0.0</td>\n",
       "      <td>0.000000</td>\n",
       "      <td>0.0</td>\n",
       "      <td>4</td>\n",
       "      <td>NaN</td>\n",
       "      <td>NaN</td>\n",
       "      <td>0</td>\n",
       "    </tr>\n",
       "    <tr>\n",
       "      <th>3</th>\n",
       "      <td>2006</td>\n",
       "      <td>NaN</td>\n",
       "      <td>NaN</td>\n",
       "      <td>NaN</td>\n",
       "      <td>NaN</td>\n",
       "      <td>NaN</td>\n",
       "      <td>NaN</td>\n",
       "      <td>Is this something I'll be able to install on m...</td>\n",
       "      <td>2015-09-29 10:50:47.601894+00</td>\n",
       "      <td>0</td>\n",
       "      <td>...</td>\n",
       "      <td>rejected</td>\n",
       "      <td>0</td>\n",
       "      <td>0.000000</td>\n",
       "      <td>0.0</td>\n",
       "      <td>0.000000</td>\n",
       "      <td>0.0</td>\n",
       "      <td>4</td>\n",
       "      <td>NaN</td>\n",
       "      <td>NaN</td>\n",
       "      <td>0</td>\n",
       "    </tr>\n",
       "    <tr>\n",
       "      <th>4</th>\n",
       "      <td>2006</td>\n",
       "      <td>0.0</td>\n",
       "      <td>0.0</td>\n",
       "      <td>0.0</td>\n",
       "      <td>0.0</td>\n",
       "      <td>0.0</td>\n",
       "      <td>0.0</td>\n",
       "      <td>haha you guys are a bunch of losers.</td>\n",
       "      <td>2015-09-29 10:50:48.488476+00</td>\n",
       "      <td>0</td>\n",
       "      <td>...</td>\n",
       "      <td>rejected</td>\n",
       "      <td>0</td>\n",
       "      <td>0.021277</td>\n",
       "      <td>0.0</td>\n",
       "      <td>0.893617</td>\n",
       "      <td>0.0</td>\n",
       "      <td>47</td>\n",
       "      <td>0.0</td>\n",
       "      <td>0.0</td>\n",
       "      <td>0</td>\n",
       "    </tr>\n",
       "  </tbody>\n",
       "</table>\n",
       "<p>5 rows × 45 columns</p>\n",
       "</div>"
      ],
      "text/plain": [
       "   article_id  asian  atheist  bisexual  black  buddhist  christian  \\\n",
       "0        2006    NaN      NaN       NaN    NaN       NaN        NaN   \n",
       "1        2006    NaN      NaN       NaN    NaN       NaN        NaN   \n",
       "2        2006    NaN      NaN       NaN    NaN       NaN        NaN   \n",
       "3        2006    NaN      NaN       NaN    NaN       NaN        NaN   \n",
       "4        2006    0.0      0.0       0.0    0.0       0.0        0.0   \n",
       "\n",
       "                                        comment_text  \\\n",
       "0  This is so cool. It's like, 'would you want yo...   \n",
       "1  Thank you!! This would make my life a lot less...   \n",
       "2  This is such an urgent design problem; kudos t...   \n",
       "3  Is this something I'll be able to install on m...   \n",
       "4               haha you guys are a bunch of losers.   \n",
       "\n",
       "                    created_date  disagree ...     rating  sad  \\\n",
       "0  2015-09-29 10:50:41.987077+00         0 ...   rejected    0   \n",
       "1  2015-09-29 10:50:42.870083+00         0 ...   rejected    0   \n",
       "2  2015-09-29 10:50:45.222647+00         0 ...   rejected    0   \n",
       "3  2015-09-29 10:50:47.601894+00         0 ...   rejected    0   \n",
       "4  2015-09-29 10:50:48.488476+00         0 ...   rejected    0   \n",
       "\n",
       "   severe_toxicity  sexual_explicit    target  threat  \\\n",
       "0         0.000000              0.0  0.000000     0.0   \n",
       "1         0.000000              0.0  0.000000     0.0   \n",
       "2         0.000000              0.0  0.000000     0.0   \n",
       "3         0.000000              0.0  0.000000     0.0   \n",
       "4         0.021277              0.0  0.893617     0.0   \n",
       "\n",
       "   toxicity_annotator_count  transgender  white  wow  \n",
       "0                         4          NaN    NaN    0  \n",
       "1                         4          NaN    NaN    0  \n",
       "2                         4          NaN    NaN    0  \n",
       "3                         4          NaN    NaN    0  \n",
       "4                        47          0.0    0.0    0  \n",
       "\n",
       "[5 rows x 45 columns]"
      ]
     },
     "execution_count": 54,
     "metadata": {},
     "output_type": "execute_result"
    }
   ],
   "source": [
    "train_data.head()"
   ]
  },
  {
   "cell_type": "code",
   "execution_count": 67,
   "metadata": {},
   "outputs": [],
   "source": [
    "# Mutating date column and calculate counts and the means to visialize the trend\n",
    "train_data['created_date'] = pd.to_datetime(train_data['created_date']).values.astype('datetime64[M]')\n",
    "train_data['created_year'] = pd.to_datetime(train_data['created_date']).values.astype('datetime64[Y]')\n",
    "counts = train_data.groupby(['created_date'])['target'].mean().sort_index().reset_index()\n",
    "means = train_data.groupby(['created_date'])['target'].count().sort_index().reset_index()"
   ]
  },
  {
   "cell_type": "code",
   "execution_count": 37,
   "metadata": {},
   "outputs": [
    {
     "data": {
      "text/html": [
       "<div>\n",
       "<style scoped>\n",
       "    .dataframe tbody tr th:only-of-type {\n",
       "        vertical-align: middle;\n",
       "    }\n",
       "\n",
       "    .dataframe tbody tr th {\n",
       "        vertical-align: top;\n",
       "    }\n",
       "\n",
       "    .dataframe thead th {\n",
       "        text-align: right;\n",
       "    }\n",
       "</style>\n",
       "<table border=\"1\" class=\"dataframe\">\n",
       "  <thead>\n",
       "    <tr style=\"text-align: right;\">\n",
       "      <th></th>\n",
       "      <th>article_id</th>\n",
       "      <th>asian</th>\n",
       "      <th>atheist</th>\n",
       "      <th>bisexual</th>\n",
       "      <th>black</th>\n",
       "      <th>buddhist</th>\n",
       "      <th>christian</th>\n",
       "      <th>comment_text</th>\n",
       "      <th>created_date</th>\n",
       "      <th>disagree</th>\n",
       "      <th>...</th>\n",
       "      <th>rating</th>\n",
       "      <th>sad</th>\n",
       "      <th>severe_toxicity</th>\n",
       "      <th>sexual_explicit</th>\n",
       "      <th>target</th>\n",
       "      <th>threat</th>\n",
       "      <th>toxicity_annotator_count</th>\n",
       "      <th>transgender</th>\n",
       "      <th>white</th>\n",
       "      <th>wow</th>\n",
       "    </tr>\n",
       "  </thead>\n",
       "  <tbody>\n",
       "    <tr>\n",
       "      <th>0</th>\n",
       "      <td>2006</td>\n",
       "      <td>NaN</td>\n",
       "      <td>NaN</td>\n",
       "      <td>NaN</td>\n",
       "      <td>NaN</td>\n",
       "      <td>NaN</td>\n",
       "      <td>NaN</td>\n",
       "      <td>This is so cool. It's like, 'would you want yo...</td>\n",
       "      <td>2015-09-01</td>\n",
       "      <td>0</td>\n",
       "      <td>...</td>\n",
       "      <td>rejected</td>\n",
       "      <td>0</td>\n",
       "      <td>0.000000</td>\n",
       "      <td>0.0</td>\n",
       "      <td>0.000000</td>\n",
       "      <td>0.0</td>\n",
       "      <td>4</td>\n",
       "      <td>NaN</td>\n",
       "      <td>NaN</td>\n",
       "      <td>0</td>\n",
       "    </tr>\n",
       "    <tr>\n",
       "      <th>1</th>\n",
       "      <td>2006</td>\n",
       "      <td>NaN</td>\n",
       "      <td>NaN</td>\n",
       "      <td>NaN</td>\n",
       "      <td>NaN</td>\n",
       "      <td>NaN</td>\n",
       "      <td>NaN</td>\n",
       "      <td>Thank you!! This would make my life a lot less...</td>\n",
       "      <td>2015-09-01</td>\n",
       "      <td>0</td>\n",
       "      <td>...</td>\n",
       "      <td>rejected</td>\n",
       "      <td>0</td>\n",
       "      <td>0.000000</td>\n",
       "      <td>0.0</td>\n",
       "      <td>0.000000</td>\n",
       "      <td>0.0</td>\n",
       "      <td>4</td>\n",
       "      <td>NaN</td>\n",
       "      <td>NaN</td>\n",
       "      <td>0</td>\n",
       "    </tr>\n",
       "    <tr>\n",
       "      <th>2</th>\n",
       "      <td>2006</td>\n",
       "      <td>NaN</td>\n",
       "      <td>NaN</td>\n",
       "      <td>NaN</td>\n",
       "      <td>NaN</td>\n",
       "      <td>NaN</td>\n",
       "      <td>NaN</td>\n",
       "      <td>This is such an urgent design problem; kudos t...</td>\n",
       "      <td>2015-09-01</td>\n",
       "      <td>0</td>\n",
       "      <td>...</td>\n",
       "      <td>rejected</td>\n",
       "      <td>0</td>\n",
       "      <td>0.000000</td>\n",
       "      <td>0.0</td>\n",
       "      <td>0.000000</td>\n",
       "      <td>0.0</td>\n",
       "      <td>4</td>\n",
       "      <td>NaN</td>\n",
       "      <td>NaN</td>\n",
       "      <td>0</td>\n",
       "    </tr>\n",
       "    <tr>\n",
       "      <th>3</th>\n",
       "      <td>2006</td>\n",
       "      <td>NaN</td>\n",
       "      <td>NaN</td>\n",
       "      <td>NaN</td>\n",
       "      <td>NaN</td>\n",
       "      <td>NaN</td>\n",
       "      <td>NaN</td>\n",
       "      <td>Is this something I'll be able to install on m...</td>\n",
       "      <td>2015-09-01</td>\n",
       "      <td>0</td>\n",
       "      <td>...</td>\n",
       "      <td>rejected</td>\n",
       "      <td>0</td>\n",
       "      <td>0.000000</td>\n",
       "      <td>0.0</td>\n",
       "      <td>0.000000</td>\n",
       "      <td>0.0</td>\n",
       "      <td>4</td>\n",
       "      <td>NaN</td>\n",
       "      <td>NaN</td>\n",
       "      <td>0</td>\n",
       "    </tr>\n",
       "    <tr>\n",
       "      <th>4</th>\n",
       "      <td>2006</td>\n",
       "      <td>0.0</td>\n",
       "      <td>0.0</td>\n",
       "      <td>0.0</td>\n",
       "      <td>0.0</td>\n",
       "      <td>0.0</td>\n",
       "      <td>0.0</td>\n",
       "      <td>haha you guys are a bunch of losers.</td>\n",
       "      <td>2015-09-01</td>\n",
       "      <td>0</td>\n",
       "      <td>...</td>\n",
       "      <td>rejected</td>\n",
       "      <td>0</td>\n",
       "      <td>0.021277</td>\n",
       "      <td>0.0</td>\n",
       "      <td>0.893617</td>\n",
       "      <td>0.0</td>\n",
       "      <td>47</td>\n",
       "      <td>0.0</td>\n",
       "      <td>0.0</td>\n",
       "      <td>0</td>\n",
       "    </tr>\n",
       "  </tbody>\n",
       "</table>\n",
       "<p>5 rows × 45 columns</p>\n",
       "</div>"
      ],
      "text/plain": [
       "   article_id  asian  atheist  bisexual  black  buddhist  christian  \\\n",
       "0        2006    NaN      NaN       NaN    NaN       NaN        NaN   \n",
       "1        2006    NaN      NaN       NaN    NaN       NaN        NaN   \n",
       "2        2006    NaN      NaN       NaN    NaN       NaN        NaN   \n",
       "3        2006    NaN      NaN       NaN    NaN       NaN        NaN   \n",
       "4        2006    0.0      0.0       0.0    0.0       0.0        0.0   \n",
       "\n",
       "                                        comment_text created_date  disagree  \\\n",
       "0  This is so cool. It's like, 'would you want yo...   2015-09-01         0   \n",
       "1  Thank you!! This would make my life a lot less...   2015-09-01         0   \n",
       "2  This is such an urgent design problem; kudos t...   2015-09-01         0   \n",
       "3  Is this something I'll be able to install on m...   2015-09-01         0   \n",
       "4               haha you guys are a bunch of losers.   2015-09-01         0   \n",
       "\n",
       "  ...     rating  sad  severe_toxicity  sexual_explicit    target  threat  \\\n",
       "0 ...   rejected    0         0.000000              0.0  0.000000     0.0   \n",
       "1 ...   rejected    0         0.000000              0.0  0.000000     0.0   \n",
       "2 ...   rejected    0         0.000000              0.0  0.000000     0.0   \n",
       "3 ...   rejected    0         0.000000              0.0  0.000000     0.0   \n",
       "4 ...   rejected    0         0.021277              0.0  0.893617     0.0   \n",
       "\n",
       "   toxicity_annotator_count  transgender  white  wow  \n",
       "0                         4          NaN    NaN    0  \n",
       "1                         4          NaN    NaN    0  \n",
       "2                         4          NaN    NaN    0  \n",
       "3                         4          NaN    NaN    0  \n",
       "4                        47          0.0    0.0    0  \n",
       "\n",
       "[5 rows x 45 columns]"
      ]
     },
     "execution_count": 37,
     "metadata": {},
     "output_type": "execute_result"
    }
   ],
   "source": [
    "train_data.head()"
   ]
  },
  {
   "cell_type": "code",
   "execution_count": 61,
   "metadata": {},
   "outputs": [
    {
     "data": {
      "text/html": [
       "<div>\n",
       "<style scoped>\n",
       "    .dataframe tbody tr th:only-of-type {\n",
       "        vertical-align: middle;\n",
       "    }\n",
       "\n",
       "    .dataframe tbody tr th {\n",
       "        vertical-align: top;\n",
       "    }\n",
       "\n",
       "    .dataframe thead th {\n",
       "        text-align: right;\n",
       "    }\n",
       "</style>\n",
       "<table border=\"1\" class=\"dataframe\">\n",
       "  <thead>\n",
       "    <tr style=\"text-align: right;\">\n",
       "      <th></th>\n",
       "      <th>created_date</th>\n",
       "      <th>target</th>\n",
       "    </tr>\n",
       "  </thead>\n",
       "  <tbody>\n",
       "    <tr>\n",
       "      <th>0</th>\n",
       "      <td>2015-09-01</td>\n",
       "      <td>0.064255</td>\n",
       "    </tr>\n",
       "    <tr>\n",
       "      <th>1</th>\n",
       "      <td>2015-10-01</td>\n",
       "      <td>0.067268</td>\n",
       "    </tr>\n",
       "  </tbody>\n",
       "</table>\n",
       "</div>"
      ],
      "text/plain": [
       "  created_date    target\n",
       "0   2015-09-01  0.064255\n",
       "1   2015-10-01  0.067268"
      ]
     },
     "execution_count": 61,
     "metadata": {},
     "output_type": "execute_result"
    }
   ],
   "source": [
    "counts.head(2)"
   ]
  },
  {
   "cell_type": "code",
   "execution_count": 62,
   "metadata": {},
   "outputs": [
    {
     "data": {
      "text/html": [
       "<div>\n",
       "<style scoped>\n",
       "    .dataframe tbody tr th:only-of-type {\n",
       "        vertical-align: middle;\n",
       "    }\n",
       "\n",
       "    .dataframe tbody tr th {\n",
       "        vertical-align: top;\n",
       "    }\n",
       "\n",
       "    .dataframe thead th {\n",
       "        text-align: right;\n",
       "    }\n",
       "</style>\n",
       "<table border=\"1\" class=\"dataframe\">\n",
       "  <thead>\n",
       "    <tr style=\"text-align: right;\">\n",
       "      <th></th>\n",
       "      <th>created_date</th>\n",
       "      <th>target</th>\n",
       "    </tr>\n",
       "  </thead>\n",
       "  <tbody>\n",
       "    <tr>\n",
       "      <th>0</th>\n",
       "      <td>2015-09-01</td>\n",
       "      <td>324</td>\n",
       "    </tr>\n",
       "    <tr>\n",
       "      <th>1</th>\n",
       "      <td>2015-10-01</td>\n",
       "      <td>260</td>\n",
       "    </tr>\n",
       "  </tbody>\n",
       "</table>\n",
       "</div>"
      ],
      "text/plain": [
       "  created_date  target\n",
       "0   2015-09-01     324\n",
       "1   2015-10-01     260"
      ]
     },
     "execution_count": 62,
     "metadata": {},
     "output_type": "execute_result"
    }
   ],
   "source": [
    "means.head(2)"
   ]
  },
  {
   "cell_type": "code",
   "execution_count": 65,
   "metadata": {},
   "outputs": [
    {
     "data": {
      "image/png": "[encoded data removed]",
      "text/plain": [
       "<Figure size 842.4x595.44 with 1 Axes>"
      ]
     },
     "metadata": {},
     "output_type": "display_data"
    }
   ],
   "source": [
    "#Rate of toxic comments through the years\n",
    "sns.set(rc={'figure.figsize':(11.7,8.27)})\n",
    "sns.lineplot(x='created_date', y='target', data=counts)\n",
    "plt.show()"
   ]
  },
  {
   "cell_type": "code",
   "execution_count": 66,
   "metadata": {},
   "outputs": [
    {
     "data": {
      "image/png": "[encoded data removed]",
      "text/plain": [
       "<Figure size 842.4x595.44 with 1 Axes>"
      ]
     },
     "metadata": {},
     "output_type": "display_data"
    }
   ],
   "source": [
    "#Counts of comments through the years\n",
    "sns.lineplot(x='created_date', y='target', data=means)\n",
    "plt.show()"
   ]
  },
  {
   "cell_type": "markdown",
   "metadata": {},
   "source": [
    "#### We can see how despite the increase of number of comments the toxicity rate is quite stable."
   ]
  },
  {
   "cell_type": "code",
   "execution_count": 87,
   "metadata": {},
   "outputs": [
    {
     "data": {
      "image/png": "[encoded data removed]",
      "text/plain": [
       "<Figure size 1440x720 with 6 Axes>"
      ]
     },
     "metadata": {},
     "output_type": "display_data"
    }
   ],
   "source": [
    "fig = plt.figure(figsize=(20,10))\n",
    "i=0\n",
    "fig.subplots_adjust(hspace=.5)\n",
    "for col in ['severe_toxicity', 'obscene', 'threat', 'insult', 'identity_attack', 'sexual_explicit']:\n",
    "    i+=1\n",
    "    df = train_data.loc[train_data[col] > 0]\n",
    "    hist_df = pd.cut(df[col], 20).value_counts().sort_index().reset_index().rename(columns={'index': 'bins'})\n",
    "    plt.subplot(2, 3, i)\n",
    "    plt.bar(hist_df.bins.astype(str), hist_df[col])\n",
    "    plt.xticks(rotation=90)\n",
    "    plt.title(col)\n",
    "plt.tight_layout()\n",
    "plt.show()"
   ]
  },
  {
   "cell_type": "markdown",
   "metadata": {},
   "source": [
    "#### Threat level distribution"
   ]
  },
  {
   "cell_type": "code",
   "execution_count": 88,
   "metadata": {},
   "outputs": [],
   "source": [
    "# look into more time series modelling at https://plot.ly/python/time-series/"
   ]
  },
  {
   "cell_type": "code",
   "execution_count": 96,
   "metadata": {},
   "outputs": [],
   "source": [
    "df = train_data.sample(frac=0.02)\n",
    "sents = df[\"comment_text\"].fillna(\"_##_\").values\n",
    "labels = df[\"target\"].values"
   ]
  },
  {
   "cell_type": "code",
   "execution_count": 97,
   "metadata": {},
   "outputs": [
    {
     "name": "stdout",
     "output_type": "stream",
     "text": [
      "----> Building bag of words representations...\n"
     ]
    },
    {
     "name": "stdout",
     "output_type": "stream",
     "text": [
      "[----------                    ] : 11038 of 36097, 30.6% : Est. 1.0 mins Remaining ] : 157 of 36097, 0.4% : Est. 1.7 mins Remaining                     ] : 237 of 36097, 0.7% : Est. 1.5 mins Remaining               ] : 316 of 36097, 0.9% : Est. 1.5 mins Remaining        ] : 405 of 36097, 1.1% : Est. 1.5 mins Remaining                      ] : 478 of 36097, 1.3% : Est. 1.6 mins Remaining ] : 561 of 36097, 1.6% : Est. 1.5 mins Remaining                         ] : 640 of 36097, 1.8% : Est. 1.5 mins Remaining      ] : 733 of 36097, 2.0% : Est. 1.5 mins Remaining                ] : 821 of 36097, 2.3% : Est. 1.4 mins Remaining           ] : 905 of 36097, 2.5% : Est. 1.5 mins Remaining                       ] : 991 of 36097, 2.7% : Est. 1.5 mins Remaining                ] : 1077 of 36097, 3.0% : Est. 1.4 mins Remaining     ] : 1157 of 36097, 3.2% : Est. 1.4 mins Remaining                     ] : 1249 of 36097, 3.5% : Est. 1.4 mins Remaining--                            ] : 1343 of 36097, 3.7% : Est. 1.4 mins Remaining        ] : 1425 of 36097, 3.9% : Est. 1.4 mins Remaining   ] : 1505 of 36097, 4.2% : Est. 1.4 mins Remaining-                            ] : 1588 of 36097, 4.4% : Est. 1.4 mins Remaining                            ] : 1671 of 36097, 4.6% : Est. 1.4 mins Remaining    ] : 1764 of 36097, 4.9% : Est. 1.4 mins Remaining             ] : 1858 of 36097, 5.1% : Est. 1.4 mins Remaining--                            ] : 1944 of 36097, 5.4% : Est. 1.4 mins Remaining               ] : 2044 of 36097, 5.7% : Est. 1.4 mins Remaining    ] : 2118 of 36097, 5.9% : Est. 1.4 mins Remaining   ] : 2217 of 36097, 6.1% : Est. 1.4 mins Remaining            ] : 2303 of 36097, 6.4% : Est. 1.4 mins Remaining                            ] : 2389 of 36097, 6.6% : Est. 1.4 mins Remaining ] : 2476 of 36097, 6.9% : Est. 1.3 mins Remaining                 ] : 2554 of 36097, 7.1% : Est. 1.4 mins Remaining            ] : 2641 of 36097, 7.3% : Est. 1.4 mins Remaining---                           ] : 2723 of 36097, 7.5% : Est. 1.4 mins Remaining              ] : 2811 of 36097, 7.8% : Est. 1.3 mins Remaining                ] : 2890 of 36097, 8.0% : Est. 1.3 mins Remaining                   ] : 2983 of 36097, 8.3% : Est. 1.3 mins Remaining ] : 3070 of 36097, 8.5% : Est. 1.3 mins Remaining                        ] : 3155 of 36097, 8.7% : Est. 1.3 mins Remaining ] : 3248 of 36097, 9.0% : Est. 1.3 mins Remaining         ] : 3342 of 36097, 9.3% : Est. 1.3 mins Remaining          ] : 3426 of 36097, 9.5% : Est. 1.3 mins Remaining              ] : 3514 of 36097, 9.7% : Est. 1.3 mins Remaining         ] : 3606 of 36097, 10.0% : Est. 1.3 mins Remaining             ] : 3681 of 36097, 10.2% : Est. 1.3 mins Remaining----                          ] : 3769 of 36097, 10.4% : Est. 1.3 mins Remaining             ] : 3863 of 36097, 10.7% : Est. 1.3 mins Remaining----                          ] : 3954 of 36097, 11.0% : Est. 1.3 mins Remaining          ] : 4048 of 36097, 11.2% : Est. 1.3 mins Remaining   ] : 4128 of 36097, 11.4% : Est. 1.3 mins Remaining              ] : 4217 of 36097, 11.7% : Est. 1.3 mins Remaining                       ] : 4311 of 36097, 11.9% : Est. 1.3 mins Remaining    ] : 4392 of 36097, 12.2% : Est. 1.3 mins Remaining                ] : 4467 of 36097, 12.4% : Est. 1.3 mins Remaining  ] : 4545 of 36097, 12.6% : Est. 1.3 mins Remaining            ] : 4629 of 36097, 12.8% : Est. 1.3 mins Remaining                 ] : 4717 of 36097, 13.1% : Est. 1.3 mins Remaining-                          ] : 4807 of 36097, 13.3% : Est. 1.3 mins Remaining               ] : 4882 of 36097, 13.5% : Est. 1.3 mins Remaining               ] : 4981 of 36097, 13.8% : Est. 1.3 mins Remaining               ] : 5045 of 36097, 14.0% : Est. 1.3 mins Remaining           ] : 5123 of 36097, 14.2% : Est. 1.3 mins Remaining                    ] : 5217 of 36097, 14.5% : Est. 1.2 mins Remaining----                         ] : 5311 of 36097, 14.7% : Est. 1.2 mins Remaining                ] : 5394 of 36097, 14.9% : Est. 1.2 mins Remaining-                         ] : 5484 of 36097, 15.2% : Est. 1.2 mins Remaining               ] : 5566 of 36097, 15.4% : Est. 1.2 mins Remaining       ] : 5654 of 36097, 15.7% : Est. 1.2 mins Remaining               ] : 5748 of 36097, 15.9% : Est. 1.2 mins Remaining                        ] : 5842 of 36097, 16.2% : Est. 1.2 mins Remaining                    ] : 5920 of 36097, 16.4% : Est. 1.2 mins Remaining----                         ] : 6014 of 36097, 16.7% : Est. 1.2 mins Remaining] : 6103 of 36097, 16.9% : Est. 1.2 mins Remaining  ] : 6185 of 36097, 17.1% : Est. 1.2 mins Remaining------                        ] : 6271 of 36097, 17.4% : Est. 1.2 mins Remaining---                        ] : 6342 of 36097, 17.6% : Est. 1.2 mins Remaining         ] : 6434 of 36097, 17.8% : Est. 1.2 mins Remaining                 ] : 6510 of 36097, 18.0% : Est. 1.2 mins Remaining ] : 6593 of 36097, 18.3% : Est. 1.2 mins Remaining     ] : 6685 of 36097, 18.5% : Est. 1.2 mins Remaining-                        ] : 6768 of 36097, 18.7% : Est. 1.2 mins Remaining             ] : 6936 of 36097, 19.2% : Est. 1.2 mins Remaining               ] : 7029 of 36097, 19.5% : Est. 1.2 mins Remaining                       ] : 7123 of 36097, 19.7% : Est. 1.2 mins Remaining] : 7216 of 36097, 20.0% : Est. 1.2 mins Remaining                ] : 7306 of 36097, 20.2% : Est. 1.2 mins Remaining                ] : 7387 of 36097, 20.5% : Est. 1.2 mins Remaining    ] : 7472 of 36097, 20.7% : Est. 1.2 mins Remaining              ] : 7557 of 36097, 20.9% : Est. 1.2 mins Remaining               ] : 7655 of 36097, 21.2% : Est. 1.1 mins Remaining         ] : 7742 of 36097, 21.4% : Est. 1.1 mins Remaining                    ] : 7831 of 36097, 21.7% : Est. 1.1 mins Remaining] : 7919 of 36097, 21.9% : Est. 1.1 mins Remaining             ] : 8012 of 36097, 22.2% : Est. 1.1 mins Remaining-------                       ] : 8079 of 36097, 22.4% : Est. 1.1 mins Remaining ] : 8169 of 36097, 22.6% : Est. 1.1 mins Remaining                   ] : 8259 of 36097, 22.9% : Est. 1.1 mins Remaining                 ] : 8350 of 36097, 23.1% : Est. 1.1 mins Remaining       ] : 8428 of 36097, 23.3% : Est. 1.1 mins Remaining--                      ] : 8517 of 36097, 23.6% : Est. 1.1 mins Remaining                    ] : 8607 of 36097, 23.8% : Est. 1.1 mins Remaining------                      ] : 8690 of 36097, 24.1% : Est. 1.1 mins Remaining                    ] : 8789 of 36097, 24.3% : Est. 1.1 mins Remaining ] : 8872 of 36097, 24.6% : Est. 1.1 mins Remaining-------                      ] : 8951 of 36097, 24.8% : Est. 1.1 mins Remaining      ] : 9044 of 36097, 25.1% : Est. 1.1 mins Remaining--------                      ] : 9132 of 36097, 25.3% : Est. 1.1 mins Remaining           ] : 9216 of 36097, 25.5% : Est. 1.1 mins Remaining                    ] : 9295 of 36097, 25.8% : Est. 1.1 mins Remaining                     ] : 9388 of 36097, 26.0% : Est. 1.1 mins Remaining  ] : 9473 of 36097, 26.2% : Est. 1.1 mins Remaining                     ] : 9560 of 36097, 26.5% : Est. 1.1 mins Remaining    ] : 9638 of 36097, 26.7% : Est. 1.1 mins Remaining-----                     ] : 9732 of 36097, 27.0% : Est. 1.1 mins Remaining   ] : 9825 of 36097, 27.2% : Est. 1.1 mins Remaining            ] : 9908 of 36097, 27.4% : Est. 1.1 mins Remaining        ] : 9997 of 36097, 27.7% : Est. 1.0 mins Remaining                ] : 10091 of 36097, 28.0% : Est. 1.0 mins Remaining---------                     ] : 10183 of 36097, 28.2% : Est. 1.0 mins Remaining         ] : 10253 of 36097, 28.4% : Est. 1.0 mins Remaining            ] : 10352 of 36097, 28.7% : Est. 1.0 mins Remaining----                     ] : 10435 of 36097, 28.9% : Est. 1.0 mins Remaining   ] : 10528 of 36097, 29.2% : Est. 1.0 mins Remaining----                     ] : 10612 of 36097, 29.4% : Est. 1.0 mins Remaining        ] : 10700 of 36097, 29.6% : Est. 1.0 mins Remaining        ] : 10784 of 36097, 29.9% : Est. 1.0 mins Remaining             ] : 10872 of 36097, 30.1% : Est. 1.0 mins Remaining-----                    ] : 10957 of 36097, 30.4% : Est. 1.0 mins Remaining            ] : 11039 of 36097, 30.6% : Est. 1.0 mins Remaining\r",
      "[----------                    ] : 11040 of 36097, 30.6% : Est. 1.0 mins Remaining\r",
      "[----------                    ] : 11041 of 36097, 30.6% : Est. 1.0 mins Remaining\r",
      "[----------                    ] : 11042 of 36097, 30.6% : Est. 1.0 mins Remaining\r",
      "[----------                    ] : 11043 of 36097, 30.6% : Est. 1.0 mins Remaining\r",
      "[----------                    ] : 11044 of 36097, 30.6% : Est. 1.0 mins Remaining\r",
      "[----------                    ] : 11045 of 36097, 30.6% : Est. 1.0 mins Remaining\r",
      "[----------                    ] : 11046 of 36097, 30.6% : Est. 1.0 mins Remaining\r",
      "[----------                    ] : 11047 of 36097, 30.6% : Est. 1.0 mins Remaining\r",
      "[----------                    ] : 11048 of 36097, 30.6% : Est. 1.0 mins Remaining\r",
      "[----------                    ] : 11049 of 36097, 30.6% : Est. 1.0 mins Remaining\r",
      "[----------                    ] : 11050 of 36097, 30.6% : Est. 1.0 mins Remaining\r",
      "[----------                    ] : 11051 of 36097, 30.6% : Est. 1.0 mins Remaining\r",
      "[----------                    ] : 11052 of 36097, 30.6% : Est. 1.0 mins Remaining\r",
      "[----------                    ] : 11053 of 36097, 30.6% : Est. 1.0 mins Remaining\r",
      "[----------                    ] : 11054 of 36097, 30.6% : Est. 1.0 mins Remaining\r",
      "[----------                    ] : 11055 of 36097, 30.6% : Est. 1.0 mins Remaining\r",
      "[----------                    ] : 11056 of 36097, 30.6% : Est. 1.0 mins Remaining\r",
      "[----------                    ] : 11057 of 36097, 30.6% : Est. 1.0 mins Remaining\r",
      "[----------                    ] : 11058 of 36097, 30.6% : Est. 1.0 mins Remaining\r",
      "[----------                    ] : 11059 of 36097, 30.6% : Est. 1.0 mins Remaining\r",
      "[----------                    ] : 11060 of 36097, 30.6% : Est. 1.0 mins Remaining\r",
      "[----------                    ] : 11061 of 36097, 30.6% : Est. 1.0 mins Remaining\r",
      "[----------                    ] : 11062 of 36097, 30.6% : Est. 1.0 mins Remaining\r",
      "[----------                    ] : 11063 of 36097, 30.6% : Est. 1.0 mins Remaining\r",
      "[----------                    ] : 11064 of 36097, 30.7% : Est. 1.0 mins Remaining\r",
      "[----------                    ] : 11065 of 36097, 30.7% : Est. 1.0 mins Remaining\r",
      "[----------                    ] : 11066 of 36097, 30.7% : Est. 1.0 mins Remaining\r",
      "[----------                    ] : 11067 of 36097, 30.7% : Est. 1.0 mins Remaining\r",
      "[----------                    ] : 11068 of 36097, 30.7% : Est. 1.0 mins Remaining\r",
      "[----------                    ] : 11069 of 36097, 30.7% : Est. 1.0 mins Remaining\r",
      "[----------                    ] : 11070 of 36097, 30.7% : Est. 1.0 mins Remaining\r",
      "[----------                    ] : 11071 of 36097, 30.7% : Est. 1.0 mins Remaining\r",
      "[----------                    ] : 11072 of 36097, 30.7% : Est. 1.0 mins Remaining\r",
      "[----------                    ] : 11073 of 36097, 30.7% : Est. 1.0 mins Remaining\r",
      "[----------                    ] : 11074 of 36097, 30.7% : Est. 1.0 mins Remaining\r",
      "[----------                    ] : 11075 of 36097, 30.7% : Est. 1.0 mins Remaining\r",
      "[----------                    ] : 11076 of 36097, 30.7% : Est. 1.0 mins Remaining\r",
      "[----------                    ] : 11077 of 36097, 30.7% : Est. 1.0 mins Remaining\r",
      "[----------                    ] : 11078 of 36097, 30.7% : Est. 1.0 mins Remaining\r",
      "[----------                    ] : 11079 of 36097, 30.7% : Est. 1.0 mins Remaining\r",
      "[----------                    ] : 11080 of 36097, 30.7% : Est. 1.0 mins Remaining\r",
      "[----------                    ] : 11081 of 36097, 30.7% : Est. 1.0 mins Remaining\r",
      "[----------                    ] : 11082 of 36097, 30.7% : Est. 1.0 mins Remaining\r",
      "[----------                    ] : 11083 of 36097, 30.7% : Est. 1.0 mins Remaining\r",
      "[----------                    ] : 11084 of 36097, 30.7% : Est. 1.0 mins Remaining\r",
      "[----------                    ] : 11085 of 36097, 30.7% : Est. 1.0 mins Remaining\r",
      "[----------                    ] : 11086 of 36097, 30.7% : Est. 1.0 mins Remaining\r",
      "[----------                    ] : 11087 of 36097, 30.7% : Est. 1.0 mins Remaining\r",
      "[----------                    ] : 11088 of 36097, 30.7% : Est. 1.0 mins Remaining\r",
      "[----------                    ] : 11089 of 36097, 30.7% : Est. 1.0 mins Remaining\r",
      "[----------                    ] : 11090 of 36097, 30.7% : Est. 1.0 mins Remaining\r",
      "[----------                    ] : 11091 of 36097, 30.7% : Est. 1.0 mins Remaining\r",
      "[----------                    ] : 11092 of 36097, 30.7% : Est. 1.0 mins Remaining\r",
      "[----------                    ] : 11093 of 36097, 30.7% : Est. 1.0 mins Remaining\r",
      "[----------                    ] : 11094 of 36097, 30.7% : Est. 1.0 mins Remaining\r",
      "[----------                    ] : 11095 of 36097, 30.7% : Est. 1.0 mins Remaining\r",
      "[----------                    ] : 11096 of 36097, 30.7% : Est. 1.0 mins Remaining\r",
      "[----------                    ] : 11097 of 36097, 30.7% : Est. 1.0 mins Remaining\r",
      "[----------                    ] : 11098 of 36097, 30.7% : Est. 1.0 mins Remaining\r",
      "[----------                    ] : 11099 of 36097, 30.7% : Est. 1.0 mins Remaining\r",
      "[----------                    ] : 11100 of 36097, 30.8% : Est. 1.0 mins Remaining\r",
      "[----------                    ] : 11101 of 36097, 30.8% : Est. 1.0 mins Remaining\r",
      "[----------                    ] : 11102 of 36097, 30.8% : Est. 1.0 mins Remaining\r",
      "[----------                    ] : 11103 of 36097, 30.8% : Est. 1.0 mins Remaining\r",
      "[----------                    ] : 11104 of 36097, 30.8% : Est. 1.0 mins Remaining\r",
      "[----------                    ] : 11105 of 36097, 30.8% : Est. 1.0 mins Remaining\r",
      "[----------                    ] : 11106 of 36097, 30.8% : Est. 1.0 mins Remaining\r",
      "[----------                    ] : 11107 of 36097, 30.8% : Est. 1.0 mins Remaining\r",
      "[----------                    ] : 11108 of 36097, 30.8% : Est. 1.0 mins Remaining\r",
      "[----------                    ] : 11109 of 36097, 30.8% : Est. 1.0 mins Remaining\r",
      "[----------                    ] : 11110 of 36097, 30.8% : Est. 1.0 mins Remaining\r",
      "[----------                    ] : 11111 of 36097, 30.8% : Est. 1.0 mins Remaining\r",
      "[----------                    ] : 11112 of 36097, 30.8% : Est. 1.0 mins Remaining\r",
      "[----------                    ] : 11113 of 36097, 30.8% : Est. 1.0 mins Remaining\r",
      "[----------                    ] : 11114 of 36097, 30.8% : Est. 1.0 mins Remaining\r",
      "[----------                    ] : 11115 of 36097, 30.8% : Est. 1.0 mins Remaining\r",
      "[----------                    ] : 11116 of 36097, 30.8% : Est. 1.0 mins Remaining\r",
      "[----------                    ] : 11117 of 36097, 30.8% : Est. 1.0 mins Remaining\r",
      "[----------                    ] : 11118 of 36097, 30.8% : Est. 1.0 mins Remaining\r",
      "[----------                    ] : 11119 of 36097, 30.8% : Est. 1.0 mins Remaining\r",
      "[----------                    ] : 11120 of 36097, 30.8% : Est. 1.0 mins Remaining\r",
      "[----------                    ] : 11121 of 36097, 30.8% : Est. 1.0 mins Remaining\r",
      "[----------                    ] : 11122 of 36097, 30.8% : Est. 1.0 mins Remaining\r",
      "[----------                    ] : 11123 of 36097, 30.8% : Est. 1.0 mins Remaining\r",
      "[----------                    ] : 11124 of 36097, 30.8% : Est. 1.0 mins Remaining\r",
      "[----------                    ] : 11125 of 36097, 30.8% : Est. 1.0 mins Remaining\r",
      "[----------                    ] : 11126 of 36097, 30.8% : Est. 1.0 mins Remaining\r",
      "[----------                    ] : 11127 of 36097, 30.8% : Est. 1.0 mins Remaining\r",
      "[----------                    ] : 11128 of 36097, 30.8% : Est. 1.0 mins Remaining\r",
      "[----------                    ] : 11129 of 36097, 30.8% : Est. 1.0 mins Remaining\r",
      "[----------                    ] : 11130 of 36097, 30.8% : Est. 1.0 mins Remaining\r",
      "[----------                    ] : 11131 of 36097, 30.8% : Est. 1.0 mins Remaining\r",
      "[----------                    ] : 11132 of 36097, 30.8% : Est. 1.0 mins Remaining\r",
      "[----------                    ] : 11133 of 36097, 30.8% : Est. 1.0 mins Remaining\r",
      "["
     ]
    },
    {
     "name": "stdout",
     "output_type": "stream",
     "text": [
      "[-------------------           ] : 22216 of 36097, 61.5% : Est. 0.6 mins Remaining--                    ] : 11309 of 36097, 31.3% : Est. 1.0 mins Remaining        ] : 11403 of 36097, 31.6% : Est. 1.0 mins Remaining      ] : 11493 of 36097, 31.8% : Est. 1.0 mins Remaining        ] : 11582 of 36097, 32.1% : Est. 1.0 mins Remaining-                    ] : 11669 of 36097, 32.3% : Est. 1.0 mins Remaining            ] : 11762 of 36097, 32.6% : Est. 1.0 mins Remaining] : 11835 of 36097, 32.8% : Est. 1.0 mins Remaining--                    ] : 11919 of 36097, 33.0% : Est. 1.0 mins Remaining                ] : 12094 of 36097, 33.5% : Est. 1.0 mins Remaining    ] : 12184 of 36097, 33.8% : Est. 1.0 mins Remaining---                   ] : 12276 of 36097, 34.0% : Est. 1.0 mins Remaining---------                   ] : 12366 of 36097, 34.3% : Est. 0.9 mins Remaining                  ] : 12450 of 36097, 34.5% : Est. 0.9 mins Remaining-------                   ] : 12544 of 36097, 34.8% : Est. 0.9 mins Remaining   ] : 12637 of 36097, 35.0% : Est. 0.9 mins Remaining    ] : 12721 of 36097, 35.2% : Est. 0.9 mins Remaining    ] : 12804 of 36097, 35.5% : Est. 0.9 mins Remaining    ] : 12887 of 36097, 35.7% : Est. 0.9 mins Remaining------                   ] : 12975 of 36097, 35.9% : Est. 0.9 mins Remaining--                   ] : 13063 of 36097, 36.2% : Est. 0.9 mins Remaining-----                   ] : 13141 of 36097, 36.4% : Est. 0.9 mins Remaining              ] : 13231 of 36097, 36.7% : Est. 0.9 mins Remaining           ] : 13309 of 36097, 36.9% : Est. 0.9 mins Remaining       ] : 13387 of 36097, 37.1% : Est. 0.9 mins Remaining------------                  ] : 13478 of 36097, 37.3% : Est. 0.9 mins Remaining            ] : 13559 of 36097, 37.6% : Est. 0.9 mins Remaining---                  ] : 13653 of 36097, 37.8% : Est. 0.9 mins Remaining-----------                  ] : 13747 of 36097, 38.1% : Est. 0.9 mins Remaining      ] : 13840 of 36097, 38.3% : Est. 0.9 mins Remaining----                  ] : 13919 of 36097, 38.6% : Est. 0.9 mins Remaining           ] : 14012 of 36097, 38.8% : Est. 0.9 mins Remaining-                  ] : 14106 of 36097, 39.1% : Est. 0.9 mins Remaining----------                  ] : 14200 of 36097, 39.3% : Est. 0.9 mins Remaining------------                  ] : 14292 of 36097, 39.6% : Est. 0.9 mins Remaining ] : 14371 of 36097, 39.8% : Est. 0.9 mins Remaining         ] : 14465 of 36097, 40.1% : Est. 0.9 mins Remaining   ] : 14549 of 36097, 40.3% : Est. 0.9 mins Remaining        ] : 14632 of 36097, 40.5% : Est. 0.9 mins Remaining         ] : 14712 of 36097, 40.8% : Est. 0.9 mins Remaining--                 ] : 14809 of 36097, 41.0% : Est. 0.9 mins Remaining                ] : 14887 of 36097, 41.2% : Est. 0.9 mins Remaining ] : 14981 of 36097, 41.5% : Est. 0.8 mins Remaining              ] : 15064 of 36097, 41.7% : Est. 0.8 mins Remaining------------                 ] : 15156 of 36097, 42.0% : Est. 0.8 mins Remaining      ] : 15246 of 36097, 42.2% : Est. 0.8 mins Remaining       ] : 15333 of 36097, 42.5% : Est. 0.8 mins Remaining           ] : 15418 of 36097, 42.7% : Est. 0.8 mins Remaining       ] : 15498 of 36097, 42.9% : Est. 0.8 mins Remaining                ] : 15590 of 36097, 43.2% : Est. 0.8 mins Remaining            ] : 15668 of 36097, 43.4% : Est. 0.8 mins Remaining--------                ] : 15749 of 36097, 43.6% : Est. 0.8 mins Remaining        ] : 15840 of 36097, 43.9% : Est. 0.8 mins Remaining  ] : 16027 of 36097, 44.4% : Est. 0.8 mins Remaining--------------                ] : 16113 of 36097, 44.6% : Est. 0.8 mins Remaining       ] : 16199 of 36097, 44.9% : Est. 0.8 mins Remaining-------                ] : 16287 of 36097, 45.1% : Est. 0.8 mins Remaining             ] : 16365 of 36097, 45.3% : Est. 0.8 mins Remaining-----                ] : 16465 of 36097, 45.6% : Est. 0.8 mins Remaining  ] : 16547 of 36097, 45.8% : Est. 0.8 mins Remaining     ] : 16634 of 36097, 46.1% : Est. 0.8 mins Remaining------                ] : 16715 of 36097, 46.3% : Est. 0.8 mins Remaining     ] : 16796 of 36097, 46.5% : Est. 0.8 mins Remaining------------               ] : 16887 of 36097, 46.8% : Est. 0.8 mins Remaining--------------               ] : 16971 of 36097, 47.0% : Est. 0.8 mins Remaining------               ] : 17056 of 36097, 47.3% : Est. 0.8 mins Remaining         ] : 17152 of 36097, 47.5% : Est. 0.8 mins Remaining       ] : 17243 of 36097, 47.8% : Est. 0.8 mins Remaining-----------               ] : 17340 of 36097, 48.0% : Est. 0.8 mins Remaining---------               ] : 17425 of 36097, 48.3% : Est. 0.7 mins Remaining  ] : 17515 of 36097, 48.5% : Est. 0.7 mins Remaining] : 17601 of 36097, 48.8% : Est. 0.7 mins Remaining-               ] : 17699 of 36097, 49.0% : Est. 0.7 mins Remaining            ] : 17777 of 36097, 49.2% : Est. 0.7 mins Remaining         ] : 17868 of 36097, 49.5% : Est. 0.7 mins Remaining-----------               ] : 17948 of 36097, 49.7% : Est. 0.7 mins Remaining      ] : 18041 of 36097, 50.0% : Est. 0.7 mins Remaining----------------              ] : 18121 of 36097, 50.2% : Est. 0.7 mins Remaining-----              ] : 18199 of 36097, 50.4% : Est. 0.7 mins Remaining-              ] : 18283 of 36097, 50.6% : Est. 0.7 mins Remaining----------              ] : 18371 of 36097, 50.9% : Est. 0.7 mins Remaining] : 18440 of 36097, 51.1% : Est. 0.7 mins Remaining---              ] : 18527 of 36097, 51.3% : Est. 0.7 mins Remaining-------              ] : 18619 of 36097, 51.6% : Est. 0.7 mins Remaining----------              ] : 18709 of 36097, 51.8% : Est. 0.7 mins Remaining----------------              ] : 18793 of 36097, 52.1% : Est. 0.7 mins Remaining---------              ] : 18885 of 36097, 52.3% : Est. 0.7 mins Remaining----------------              ] : 18950 of 36097, 52.5% : Est. 0.7 mins Remaining         ] : 19034 of 36097, 52.7% : Est. 0.7 mins Remaining----              ] : 19118 of 36097, 53.0% : Est. 0.7 mins Remaining-----------              ] : 19199 of 36097, 53.2% : Est. 0.7 mins Remaining---------------             ] : 19276 of 36097, 53.4% : Est. 0.7 mins Remaining-----             ] : 19355 of 36097, 53.6% : Est. 0.7 mins Remaining-------------             ] : 19447 of 36097, 53.9% : Est. 0.7 mins Remaining----------             ] : 19527 of 36097, 54.1% : Est. 0.7 mins Remaining-----------------             ] : 19611 of 36097, 54.3% : Est. 0.7 mins Remaining---------------             ] : 19699 of 36097, 54.6% : Est. 0.7 mins Remaining    ] : 19792 of 36097, 54.8% : Est. 0.7 mins Remaining           ] : 19882 of 36097, 55.1% : Est. 0.7 mins Remaining---------             ] : 19967 of 36097, 55.3% : Est. 0.7 mins Remaining-----             ] : 20058 of 36097, 55.6% : Est. 0.6 mins Remaining     ] : 20142 of 36097, 55.8% : Est. 0.6 mins Remaining-----------------             ] : 20229 of 36097, 56.0% : Est. 0.6 mins Remaining--------             ] : 20395 of 36097, 56.5% : Est. 0.6 mins Remaining----            ] : 20490 of 36097, 56.8% : Est. 0.6 mins Remaining ] : 20573 of 36097, 57.0% : Est. 0.6 mins Remaining-----------            ] : 20654 of 36097, 57.2% : Est. 0.6 mins Remaining      ] : 20745 of 36097, 57.5% : Est. 0.6 mins Remaining--            ] : 20834 of 36097, 57.7% : Est. 0.6 mins Remaining           ] : 20917 of 36097, 57.9% : Est. 0.6 mins Remaining-----------            ] : 20995 of 36097, 58.2% : Est. 0.6 mins Remaining----            ] : 21089 of 36097, 58.4% : Est. 0.6 mins Remaining----------            ] : 21174 of 36097, 58.7% : Est. 0.6 mins Remaining---------            ] : 21261 of 36097, 58.9% : Est. 0.6 mins Remaining] : 21353 of 36097, 59.2% : Est. 0.6 mins Remaining--------------            ] : 21433 of 36097, 59.4% : Est. 0.6 mins Remaining-------------            ] : 21522 of 36097, 59.6% : Est. 0.6 mins Remaining       ] : 21698 of 36097, 60.1% : Est. 0.6 mins Remaining--------           ] : 21782 of 36097, 60.3% : Est. 0.6 mins Remaining-           ] : 21870 of 36097, 60.6% : Est. 0.6 mins Remaining--           ] : 21954 of 36097, 60.8% : Est. 0.6 mins Remaining---           ] : 22033 of 36097, 61.0% : Est. 0.6 mins Remaining--           ] : 22120 of 36097, 61.3% : Est. 0.6 mins Remaining"
     ]
    },
    {
     "name": "stdout",
     "output_type": "stream",
     "text": [
      "[----------------------------  ] : 33055 of 36097, 91.6% : Est. 0.1 mins Remaining----------------           ] : 22386 of 36097, 62.0% : Est. 0.6 mins Remaining      ] : 22477 of 36097, 62.3% : Est. 0.5 mins Remaining] : 22557 of 36097, 62.5% : Est. 0.5 mins Remaining         ] : 22651 of 36097, 62.8% : Est. 0.5 mins Remaining------           ] : 22745 of 36097, 63.0% : Est. 0.5 mins Remaining-------------------           ] : 22828 of 36097, 63.2% : Est. 0.5 mins Remaining------------          ] : 22917 of 36097, 63.5% : Est. 0.5 mins Remaining------          ] : 23000 of 36097, 63.7% : Est. 0.5 mins Remaining-----------------          ] : 23089 of 36097, 64.0% : Est. 0.5 mins Remaining    ] : 23182 of 36097, 64.2% : Est. 0.5 mins Remaining-------          ] : 23272 of 36097, 64.5% : Est. 0.5 mins Remaining--------------------          ] : 23356 of 36097, 64.7% : Est. 0.5 mins Remaining-------          ] : 23448 of 36097, 65.0% : Est. 0.5 mins Remaining----------------          ] : 23542 of 36097, 65.2% : Est. 0.5 mins Remaining   ] : 23631 of 36097, 65.5% : Est. 0.5 mins Remaining        ] : 23710 of 36097, 65.7% : Est. 0.5 mins Remaining-----------------          ] : 23792 of 36097, 65.9% : Est. 0.5 mins Remaining--------------          ] : 23887 of 36097, 66.2% : Est. 0.5 mins Remaining--          ] : 23979 of 36097, 66.4% : Est. 0.5 mins Remaining    ] : 24064 of 36097, 66.7% : Est. 0.5 mins Remaining---------------------         ] : 24144 of 36097, 66.9% : Est. 0.5 mins Remaining------------         ] : 24232 of 36097, 67.1% : Est. 0.5 mins Remaining---------------------         ] : 24320 of 36097, 67.4% : Est. 0.5 mins Remaining    ] : 24409 of 36097, 67.6% : Est. 0.5 mins Remaining------------------         ] : 24495 of 36097, 67.9% : Est. 0.5 mins Remaining---------------------         ] : 24573 of 36097, 68.1% : Est. 0.5 mins Remaining     ] : 24657 of 36097, 68.3% : Est. 0.5 mins Remaining--------------------         ] : 24745 of 36097, 68.6% : Est. 0.5 mins Remaining     ] : 24838 of 36097, 68.8% : Est. 0.5 mins Remaining---------------         ] : 24918 of 36097, 69.0% : Est. 0.5 mins Remaining        ] : 25001 of 36097, 69.3% : Est. 0.4 mins Remaining       ] : 25088 of 36097, 69.5% : Est. 0.4 mins Remaining------         ] : 25182 of 36097, 69.8% : Est. 0.4 mins Remaining    ] : 25272 of 36097, 70.0% : Est. 0.4 mins Remaining------------        ] : 25354 of 36097, 70.2% : Est. 0.4 mins Remaining----        ] : 25446 of 36097, 70.5% : Est. 0.4 mins Remaining-----------------        ] : 25526 of 36097, 70.7% : Est. 0.4 mins Remaining  ] : 25619 of 36097, 71.0% : Est. 0.4 mins Remaining--        ] : 25713 of 36097, 71.2% : Est. 0.4 mins Remaining--------------------        ] : 25805 of 36097, 71.5% : Est. 0.4 mins Remaining---------        ] : 25887 of 36097, 71.7% : Est. 0.4 mins Remaining    ] : 25971 of 36097, 71.9% : Est. 0.4 mins Remaining] : 26065 of 36097, 72.2% : Est. 0.4 mins Remaining---------------------        ] : 26151 of 36097, 72.4% : Est. 0.4 mins Remaining-------------------        ] : 26230 of 36097, 72.7% : Est. 0.4 mins Remaining-------        ] : 26322 of 36097, 72.9% : Est. 0.4 mins Remaining--        ] : 26416 of 36097, 73.2% : Est. 0.4 mins Remaining] : 26491 of 36097, 73.4% : Est. 0.4 mins Remaining---------------       ] : 26588 of 36097, 73.7% : Est. 0.4 mins Remaining-----       ] : 26666 of 36097, 73.9% : Est. 0.4 mins Remaining--------       ] : 26759 of 36097, 74.1% : Est. 0.4 mins Remaining----------       ] : 26838 of 36097, 74.3% : Est. 0.4 mins Remaining-----------------------       ] : 26926 of 36097, 74.6% : Est. 0.4 mins Remaining---------------       ] : 27010 of 36097, 74.8% : Est. 0.4 mins Remaining-----------       ] : 27088 of 36097, 75.0% : Est. 0.4 mins Remaining--------------       ] : 27167 of 36097, 75.3% : Est. 0.4 mins Remaining-------       ] : 27258 of 36097, 75.5% : Est. 0.4 mins Remaining---       ] : 27343 of 36097, 75.7% : Est. 0.4 mins Remaining---------------------       ] : 27432 of 36097, 76.0% : Est. 0.3 mins Remaining     ] : 27525 of 36097, 76.3% : Est. 0.3 mins Remaining------       ] : 27619 of 36097, 76.5% : Est. 0.3 mins Remaining----------------      ] : 27713 of 36097, 76.8% : Est. 0.3 mins Remaining   ] : 27798 of 36097, 77.0% : Est. 0.3 mins Remaining---------------------      ] : 27885 of 36097, 77.3% : Est. 0.3 mins Remaining   ] : 27978 of 36097, 77.5% : Est. 0.3 mins Remaining------      ] : 28072 of 36097, 77.8% : Est. 0.3 mins Remaining--------------      ] : 28166 of 36097, 78.0% : Est. 0.3 mins Remaining-----------------------      ] : 28260 of 36097, 78.3% : Est. 0.3 mins Remaining     ] : 28353 of 36097, 78.5% : Est. 0.3 mins Remaining--------      ] : 28447 of 36097, 78.8% : Est. 0.3 mins Remaining----------------      ] : 28541 of 36097, 79.1% : Est. 0.3 mins Remaining-----------------      ] : 28718 of 36097, 79.6% : Est. 0.3 mins Remaining-----------      ] : 28819 of 36097, 79.8% : Est. 0.3 mins Remaining-------     ] : 28900 of 36097, 80.1% : Est. 0.3 mins Remaining----------------------     ] : 28977 of 36097, 80.3% : Est. 0.3 mins Remaining     ] : 29056 of 36097, 80.5% : Est. 0.3 mins Remaining---------     ] : 29150 of 36097, 80.8% : Est. 0.3 mins Remaining-----     ] : 29228 of 36097, 81.0% : Est. 0.3 mins Remaining--------------     ] : 29322 of 36097, 81.2% : Est. 0.3 mins Remaining----------     ] : 29400 of 36097, 81.4% : Est. 0.3 mins Remaining-------     ] : 29478 of 36097, 81.7% : Est. 0.3 mins Remaining---     ] : 29556 of 36097, 81.9% : Est. 0.3 mins Remaining     ] : 29634 of 36097, 82.1% : Est. 0.3 mins Remaining     ] : 29715 of 36097, 82.3% : Est. 0.3 mins Remaining---------     ] : 29819 of 36097, 82.6% : Est. 0.3 mins Remaining-------------     ] : 29900 of 36097, 82.8% : Est. 0.2 mins Remaining----------------------     ] : 29994 of 36097, 83.1% : Est. 0.2 mins Remaining------------------     ] : 30073 of 36097, 83.3% : Est. 0.2 mins Remaining--------------------------    ] : 30146 of 36097, 83.5% : Est. 0.2 mins Remaining----------------    ] : 30234 of 36097, 83.8% : Est. 0.2 mins Remaining---------------------    ] : 30322 of 36097, 84.0% : Est. 0.2 mins Remaining-----------------------    ] : 30411 of 36097, 84.2% : Est. 0.2 mins Remaining---------------    ] : 30496 of 36097, 84.5% : Est. 0.2 mins Remaining--    ] : 30587 of 36097, 84.7% : Est. 0.2 mins Remaining-----------    ] : 30681 of 36097, 85.0% : Est. 0.2 mins Remaining-------    ] : 30759 of 36097, 85.2% : Est. 0.2 mins Remaining----------------    ] : 30853 of 36097, 85.5% : Est. 0.2 mins Remaining------------------------    ] : 30947 of 36097, 85.7% : Est. 0.2 mins Remaining-    ] : 31040 of 36097, 86.0% : Est. 0.2 mins Remaining-------------------------    ] : 31132 of 36097, 86.2% : Est. 0.2 mins Remaining-----    ] : 31212 of 36097, 86.5% : Est. 0.2 mins Remaining] : 31310 of 36097, 86.7% : Est. 0.2 mins Remaining--------------------   ] : 31478 of 36097, 87.2% : Est. 0.2 mins Remaining] : 31571 of 36097, 87.5% : Est. 0.2 mins Remaining-------------------------   ] : 31650 of 36097, 87.7% : Est. 0.2 mins Remaining----------------------   ] : 31728 of 36097, 87.9% : Est. 0.2 mins Remaining---------------------------   ] : 31818 of 36097, 88.1% : Est. 0.2 mins Remaining---------------------------   ] : 31895 of 36097, 88.4% : Est. 0.2 mins Remaining-----------------------   ] : 31978 of 36097, 88.6% : Est. 0.2 mins Remaining   ] : 32071 of 36097, 88.8% : Est. 0.2 mins Remaining--------   ] : 32165 of 36097, 89.1% : Est. 0.2 mins Remaining-----   ] : 32243 of 36097, 89.3% : Est. 0.2 mins Remaining--------------   ] : 32337 of 36097, 89.6% : Est. 0.2 mins Remaining---------------------------   ] : 32419 of 36097, 89.8% : Est. 0.1 mins Remaining-------------------  ] : 32509 of 36097, 90.1% : Est. 0.1 mins Remaining----------------------------  ] : 32603 of 36097, 90.3% : Est. 0.1 mins Remaining--------------------  ] : 32698 of 36097, 90.6% : Est. 0.1 mins Remaining----------------------------  ] : 32783 of 36097, 90.8% : Est. 0.1 mins Remaining---------  ] : 32868 of 36097, 91.1% : Est. 0.1 mins Remaining------------------  ] : 32962 of 36097, 91.3% : Est. 0.1 mins Remaining"
     ]
    },
    {
     "name": "stdout",
     "output_type": "stream",
     "text": [
      "[-------------------------------] : 36096 of 36097, 100.0% : Est. 0.0 mins Remaining--------------------  ] : 33222 of 36097, 92.0% : Est. 0.1 mins Remaining----  ] : 33320 of 36097, 92.3% : Est. 0.1 mins Remaining----  ] : 33399 of 36097, 92.5% : Est. 0.1 mins Remaining----------  ] : 33497 of 36097, 92.8% : Est. 0.1 mins Remaining---------------------  ] : 33587 of 36097, 93.0% : Est. 0.1 mins Remaining] : 33680 of 36097, 93.3% : Est. 0.1 mins Remaining------- ] : 33774 of 36097, 93.6% : Est. 0.1 mins Remaining---------------- ] : 33868 of 36097, 93.8% : Est. 0.1 mins Remaining------------ ] : 33946 of 36097, 94.0% : Est. 0.1 mins Remaining--------------------- ] : 34040 of 36097, 94.3% : Est. 0.1 mins Remaining----------------------------- ] : 34134 of 36097, 94.6% : Est. 0.1 mins Remaining-------------------------- ] : 34212 of 36097, 94.8% : Est. 0.1 mins Remaining---------------------- ] : 34290 of 36097, 95.0% : Est. 0.1 mins Remaining--------------------------- ] : 34382 of 36097, 95.2% : Est. 0.1 mins Remaining---------- ] : 34466 of 36097, 95.5% : Est. 0.1 mins Remaining--- ] : 34544 of 36097, 95.7% : Est. 0.1 mins Remaining----------------------------- ] : 34626 of 36097, 95.9% : Est. 0.1 mins Remaining----------------------------- ] : 34712 of 36097, 96.2% : Est. 0.1 mins Remaining------------------------- ] : 34790 of 36097, 96.4% : Est. 0.1 mins Remaining-- ] : 34883 of 36097, 96.6% : Est. 0.0 mins Remaining-----------] : 34977 of 36097, 96.9% : Est. 0.0 mins Remaining------------------------------] : 35062 of 36097, 97.1% : Est. 0.0 mins Remaining------------------] : 35157 of 36097, 97.4% : Est. 0.0 mins Remaining--------------] : 35237 of 36097, 97.6% : Est. 0.0 mins Remaining---------------------] : 35321 of 36097, 97.9% : Est. 0.0 mins Remaining------------------------------] : 35415 of 36097, 98.1% : Est. 0.0 mins Remaining------] : 35508 of 36097, 98.4% : Est. 0.0 mins Remaining---------------] : 35602 of 36097, 98.6% : Est. 0.0 mins Remaining-----------------------] : 35696 of 36097, 98.9% : Est. 0.0 mins Remaining-----------------] : 35785 of 36097, 99.1% : Est. 0.0 mins Remaining] : 35871 of 36097, 99.4% : Est. 0.0 mins Remaining-----------------------------] : 35966 of 36097, 99.6% : Est. 0.0 mins Remaining-] : 36039 of 36097, 99.8% : Est. 0.0 mins Remaining\n",
      "----> Done.\n",
      "----> Getting difficulty metrics...\n",
      "----> Done.\n",
      "----> Getting generic statistics...\n",
      "----> Done.\n",
      "\n",
      "\n",
      "Dataset Size                 36097               -\n",
      "Vocab Size                   60206               -\n",
      "Number of Classes            714                 -\n",
      "Mean Items Per Class         50.556022408963585  -\n",
      "Min. Items in a Class        1                   \u001b[91mEXTREMELY LOW\u001b[0m\n",
      "Average Sentence Length      297.92002105438127  -\n",
      "Distinct Words : Total Words 0.03267386107395116 \u001b[92mGOOD\u001b[0m\n",
      "Class Imbalance              1.8784814089084123  \u001b[91mVERY HIGH\u001b[0m\n",
      "Class Diversity              1.5088585912227193  \u001b[94mSOMEWHAT HIGH\u001b[0m\n",
      "Max. Hellinger Similarity    1.0                 \u001b[91mVERY HIGH\u001b[0m\n",
      "Mutual Information           0.03353925145165847 \u001b[92mGOOD\u001b[0m\n",
      "Difficulty                   4.453553112656742   \u001b[93mHIGH\u001b[0m\n",
      "\n",
      "\n",
      "\n"
     ]
    }
   ],
   "source": [
    "print(report.get_difficulty_report(sents, labels))"
   ]
  },
  {
   "cell_type": "code",
   "execution_count": null,
   "metadata": {},
   "outputs": [],
   "source": []
  }
 ],
 "metadata": {
  "kernelspec": {
   "display_name": "Python 3",
   "language": "python",
   "name": "python3"
  },
  "language_info": {
   "codemirror_mode": {
    "name": "ipython",
    "version": 3
   },
   "file_extension": ".py",
   "mimetype": "text/x-python",
   "name": "python",
   "nbconvert_exporter": "python",
   "pygments_lexer": "ipython3",
   "version": "3.7.1"
  }
 },
 "nbformat": 4,
 "nbformat_minor": 2
}
